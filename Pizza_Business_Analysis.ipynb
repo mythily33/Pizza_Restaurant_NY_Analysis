{
 "cells": [
  {
   "cell_type": "markdown",
   "id": "defined-comedy",
   "metadata": {},
   "source": [
    "# Project Objective\n",
    "\n",
    "A client at analytics firm is considering opening a pizza restaurant in New York City. \n",
    "\n",
    "Analyse and derive insights on New York Pizza Restaurants with Above and Below Average Ratings using Yelp dataset.\n",
    "\n",
    "![Pizza gif](https://media.giphy.com/media/eK1eFdpj5kMWqZ9bLJ/giphy.gif?cid=ecf05e47rkbp48nwz3za6dloo8xfwzueu0rx2vklguo7xyhu&rid=giphy.gif&ct=g)\n",
    "\n",
    "## Scope \n",
    "- Read in data that has been stored as a `json` file.\n",
    "- Describe how the data is structured.\n",
    "- Use Python to filter a nested data structure\n",
    "- Define python functions\n",
    "- Calculate descriptive statistics\n",
    "- Visualize data via matplotlib\n",
    "\n",
    "\n",
    "## Business Understanding \n",
    "\n",
    "A client at analytics firm is considering opening a pizza restaurant in New York City. \n",
    "\n",
    "They have asked you to develop a business intelligence report to fact check the following claims:\n",
    "1. Your client wants to ensure they have an above average Yelp rating. They have previously owned restuarants in other cities, where a `3` was the average. They would like to know if that holds true in New York City. \n",
    "1. Your client has noticed that restaurants on yelp with a high review count seem to be quite successful. They have decided to focus on maximizing their review count which they believe will allow them to have an above average overall review. \n",
    "1. After looking at a few restaurants on Yelp, your client believes that most above average restaurants have a price point of `$$`. They are considering increasing their prices from `$` to `$$` to match the majority of above average restaurants, and would like you to find the most common price point for above average restaurants in New York City.\n",
    "1. In terms of location they have been told that above average restaurants are usually further east and below average are usually further west, but that the biggest difference is whether the restaurant is on the north or south side. They would like you to determine if the data supports this claim.\n",
    "1. They believe that the `10012` zipcode in New York City is the best place to open a restaurant. They wish to open a restaurant in close proximity to other highly rated restaurants, and they believe `10012` has the most in NYC.\n",
    "\n",
    "\n",
    "\n",
    "The primary purpose of this analysis is _descriptive_, meaning analysis is based on calculated statistics such as `counts` and `mean`, and is focused on providing a simple, factual, understanding of the data. \n"
   ]
  },
  {
   "cell_type": "markdown",
   "id": "fundamental-explanation",
   "metadata": {},
   "source": [
    "## Load the data\n",
    "\n",
    "A dataset containing information about New York pizza restaurants is stored in this notebook's repository with the name `pizza_businesses.json`.\n",
    "\n",
    "In the cell below, json data loaded into a python list."
   ]
  },
  {
   "cell_type": "code",
   "execution_count": 2,
   "id": "finnish-hardwood",
   "metadata": {
    "scrolled": false
   },
   "outputs": [],
   "source": [
    "# Import the json python package\n",
    "import json\n",
    "\n",
    "# Load in the data\n",
    "with open(\"pizza_businesses.json\") as f:\n",
    "    yelp_data = json.load(f)"
   ]
  },
  {
   "cell_type": "code",
   "execution_count": 3,
   "id": "3c4cd8c2",
   "metadata": {
    "scrolled": true
   },
   "outputs": [
    {
     "name": "stdout",
     "output_type": "stream",
     "text": [
      "<class 'list'>\n",
      "1000\n"
     ]
    }
   ],
   "source": [
    "print(type(yelp_data))\n",
    "print(len(yelp_data))"
   ]
  },
  {
   "cell_type": "code",
   "execution_count": 7,
   "id": "99fec41d",
   "metadata": {
    "scrolled": false
   },
   "outputs": [
    {
     "data": {
      "text/html": [
       "<div>\n",
       "<style scoped>\n",
       "    .dataframe tbody tr th:only-of-type {\n",
       "        vertical-align: middle;\n",
       "    }\n",
       "\n",
       "    .dataframe tbody tr th {\n",
       "        vertical-align: top;\n",
       "    }\n",
       "\n",
       "    .dataframe thead th {\n",
       "        text-align: right;\n",
       "    }\n",
       "</style>\n",
       "<table border=\"1\" class=\"dataframe\">\n",
       "  <thead>\n",
       "    <tr style=\"text-align: right;\">\n",
       "      <th></th>\n",
       "      <th>name</th>\n",
       "      <th>review_count</th>\n",
       "      <th>rating</th>\n",
       "      <th>price</th>\n",
       "      <th>location</th>\n",
       "      <th>transactions</th>\n",
       "      <th>phone</th>\n",
       "      <th>latitude</th>\n",
       "      <th>longitude</th>\n",
       "    </tr>\n",
       "  </thead>\n",
       "  <tbody>\n",
       "    <tr>\n",
       "      <th>0</th>\n",
       "      <td>Prince Street Pizza</td>\n",
       "      <td>3976</td>\n",
       "      <td>4.5</td>\n",
       "      <td>\\$</td>\n",
       "      <td>{'address1': '27 Prince St', 'address2': None,...</td>\n",
       "      <td>[delivery, pickup]</td>\n",
       "      <td>+12129664100</td>\n",
       "      <td>40.723088</td>\n",
       "      <td>-73.994530</td>\n",
       "    </tr>\n",
       "    <tr>\n",
       "      <th>1</th>\n",
       "      <td>Juliana's</td>\n",
       "      <td>2354</td>\n",
       "      <td>4.5</td>\n",
       "      <td>\\$\\$</td>\n",
       "      <td>{'address1': '19 Old Fulton St', 'address2': '...</td>\n",
       "      <td>[delivery]</td>\n",
       "      <td>+17185966700</td>\n",
       "      <td>40.702747</td>\n",
       "      <td>-73.993435</td>\n",
       "    </tr>\n",
       "    <tr>\n",
       "      <th>2</th>\n",
       "      <td>Rubirosa</td>\n",
       "      <td>2438</td>\n",
       "      <td>4.5</td>\n",
       "      <td>\\$\\$</td>\n",
       "      <td>{'address1': '235 Mulberry St', 'address2': ''...</td>\n",
       "      <td>[delivery, pickup]</td>\n",
       "      <td>+12129650500</td>\n",
       "      <td>40.722766</td>\n",
       "      <td>-73.996233</td>\n",
       "    </tr>\n",
       "    <tr>\n",
       "      <th>3</th>\n",
       "      <td>Lombardi's Pizza</td>\n",
       "      <td>6189</td>\n",
       "      <td>4.0</td>\n",
       "      <td>\\$\\$</td>\n",
       "      <td>{'address1': '32 Spring St', 'address2': '', '...</td>\n",
       "      <td>[delivery, pickup]</td>\n",
       "      <td>+12129417994</td>\n",
       "      <td>40.721593</td>\n",
       "      <td>-73.995596</td>\n",
       "    </tr>\n",
       "    <tr>\n",
       "      <th>4</th>\n",
       "      <td>Lucali</td>\n",
       "      <td>1709</td>\n",
       "      <td>4.0</td>\n",
       "      <td>\\$\\$</td>\n",
       "      <td>{'address1': '575 Henry St', 'address2': None,...</td>\n",
       "      <td>[delivery]</td>\n",
       "      <td>+17188584086</td>\n",
       "      <td>40.681800</td>\n",
       "      <td>-74.000240</td>\n",
       "    </tr>\n",
       "    <tr>\n",
       "      <th>5</th>\n",
       "      <td>Roberta's</td>\n",
       "      <td>3004</td>\n",
       "      <td>4.0</td>\n",
       "      <td>\\$\\$</td>\n",
       "      <td>{'address1': '261 Moore St', 'address2': '', '...</td>\n",
       "      <td>[delivery, pickup]</td>\n",
       "      <td>+17184171118</td>\n",
       "      <td>40.704930</td>\n",
       "      <td>-73.933990</td>\n",
       "    </tr>\n",
       "    <tr>\n",
       "      <th>6</th>\n",
       "      <td>Joe's Pizza</td>\n",
       "      <td>2673</td>\n",
       "      <td>4.0</td>\n",
       "      <td>\\$</td>\n",
       "      <td>{'address1': '7 Carmine St', 'address2': '', '...</td>\n",
       "      <td>[delivery]</td>\n",
       "      <td>+12123661182</td>\n",
       "      <td>40.730555</td>\n",
       "      <td>-74.002116</td>\n",
       "    </tr>\n",
       "    <tr>\n",
       "      <th>7</th>\n",
       "      <td>L'industrie Pizzeria</td>\n",
       "      <td>596</td>\n",
       "      <td>4.5</td>\n",
       "      <td>\\$</td>\n",
       "      <td>{'address1': '254 S 2nd St', 'address2': '', '...</td>\n",
       "      <td>[delivery]</td>\n",
       "      <td>+17185990002</td>\n",
       "      <td>40.711620</td>\n",
       "      <td>-73.957830</td>\n",
       "    </tr>\n",
       "    <tr>\n",
       "      <th>8</th>\n",
       "      <td>Joe's Pizza</td>\n",
       "      <td>947</td>\n",
       "      <td>4.0</td>\n",
       "      <td>\\$</td>\n",
       "      <td>{'address1': '150 E 14th St', 'address2': '', ...</td>\n",
       "      <td>[delivery, pickup]</td>\n",
       "      <td>+12123889474</td>\n",
       "      <td>40.733310</td>\n",
       "      <td>-73.987630</td>\n",
       "    </tr>\n",
       "    <tr>\n",
       "      <th>9</th>\n",
       "      <td>Grimaldi's Pizzeria</td>\n",
       "      <td>4683</td>\n",
       "      <td>3.5</td>\n",
       "      <td>\\$\\$</td>\n",
       "      <td>{'address1': '1 Front St', 'address2': '', 'ad...</td>\n",
       "      <td>[delivery, pickup]</td>\n",
       "      <td>+17188584300</td>\n",
       "      <td>40.702583</td>\n",
       "      <td>-73.993241</td>\n",
       "    </tr>\n",
       "    <tr>\n",
       "      <th>10</th>\n",
       "      <td>John's of Bleecker Street</td>\n",
       "      <td>2153</td>\n",
       "      <td>4.0</td>\n",
       "      <td>\\$\\$</td>\n",
       "      <td>{'address1': '278 Bleecker St', 'address2': ''...</td>\n",
       "      <td>[delivery, pickup]</td>\n",
       "      <td>+12122431680</td>\n",
       "      <td>40.731580</td>\n",
       "      <td>-74.003320</td>\n",
       "    </tr>\n",
       "    <tr>\n",
       "      <th>11</th>\n",
       "      <td>Scarr's Pizza</td>\n",
       "      <td>500</td>\n",
       "      <td>4.0</td>\n",
       "      <td>\\$</td>\n",
       "      <td>{'address1': '22 Orchard St', 'address2': '', ...</td>\n",
       "      <td>[delivery, pickup]</td>\n",
       "      <td>+12123343481</td>\n",
       "      <td>40.715340</td>\n",
       "      <td>-73.991400</td>\n",
       "    </tr>\n",
       "    <tr>\n",
       "      <th>12</th>\n",
       "      <td>Lombardo's of Bay Ridge</td>\n",
       "      <td>154</td>\n",
       "      <td>5.0</td>\n",
       "      <td>\\$\\$</td>\n",
       "      <td>{'address1': '279 71st St', 'address2': None, ...</td>\n",
       "      <td>[pickup]</td>\n",
       "      <td>+17182387100</td>\n",
       "      <td>40.634741</td>\n",
       "      <td>-74.028426</td>\n",
       "    </tr>\n",
       "    <tr>\n",
       "      <th>13</th>\n",
       "      <td>Di Fara Pizza</td>\n",
       "      <td>3652</td>\n",
       "      <td>4.0</td>\n",
       "      <td>\\$\\$</td>\n",
       "      <td>{'address1': '1424 Ave J', 'address2': '', 'ad...</td>\n",
       "      <td>[delivery, pickup]</td>\n",
       "      <td>+17182581367</td>\n",
       "      <td>40.625093</td>\n",
       "      <td>-73.961531</td>\n",
       "    </tr>\n",
       "    <tr>\n",
       "      <th>14</th>\n",
       "      <td>Mimi's Pizza</td>\n",
       "      <td>67</td>\n",
       "      <td>4.5</td>\n",
       "      <td>Unknown</td>\n",
       "      <td>{'address1': '217 E 86th St', 'address2': None...</td>\n",
       "      <td>[delivery, pickup]</td>\n",
       "      <td>+16468612518</td>\n",
       "      <td>40.778638</td>\n",
       "      <td>-73.952895</td>\n",
       "    </tr>\n",
       "    <tr>\n",
       "      <th>15</th>\n",
       "      <td>Paulie Gee's</td>\n",
       "      <td>1285</td>\n",
       "      <td>4.5</td>\n",
       "      <td>\\$\\$</td>\n",
       "      <td>{'address1': '60 Greenpoint Ave', 'address2': ...</td>\n",
       "      <td>[delivery]</td>\n",
       "      <td>+13479873747</td>\n",
       "      <td>40.729546</td>\n",
       "      <td>-73.958568</td>\n",
       "    </tr>\n",
       "    <tr>\n",
       "      <th>16</th>\n",
       "      <td>Roberta's</td>\n",
       "      <td>38</td>\n",
       "      <td>4.0</td>\n",
       "      <td>Unknown</td>\n",
       "      <td>{'address1': '6 Grand St', 'address2': '', 'ad...</td>\n",
       "      <td>[delivery, pickup]</td>\n",
       "      <td>+17182782400</td>\n",
       "      <td>40.716188</td>\n",
       "      <td>-73.966518</td>\n",
       "    </tr>\n",
       "    <tr>\n",
       "      <th>17</th>\n",
       "      <td>East Village Pizza</td>\n",
       "      <td>382</td>\n",
       "      <td>4.0</td>\n",
       "      <td>\\$</td>\n",
       "      <td>{'address1': '145 1st Ave', 'address2': '', 'a...</td>\n",
       "      <td>[delivery, pickup]</td>\n",
       "      <td>+12125294545</td>\n",
       "      <td>40.728199</td>\n",
       "      <td>-73.985182</td>\n",
       "    </tr>\n",
       "    <tr>\n",
       "      <th>18</th>\n",
       "      <td>Bleecker Street Pizza</td>\n",
       "      <td>2454</td>\n",
       "      <td>4.0</td>\n",
       "      <td>\\$</td>\n",
       "      <td>{'address1': '69 7th Ave S', 'address2': None,...</td>\n",
       "      <td>[delivery, pickup]</td>\n",
       "      <td>+12129244466</td>\n",
       "      <td>40.732063</td>\n",
       "      <td>-74.003655</td>\n",
       "    </tr>\n",
       "    <tr>\n",
       "      <th>19</th>\n",
       "      <td>Joe's Pizza</td>\n",
       "      <td>365</td>\n",
       "      <td>4.0</td>\n",
       "      <td>\\$</td>\n",
       "      <td>{'address1': '216 Bedford Ave', 'address2': ''...</td>\n",
       "      <td>[delivery, pickup]</td>\n",
       "      <td>+17183882216</td>\n",
       "      <td>40.716910</td>\n",
       "      <td>-73.958987</td>\n",
       "    </tr>\n",
       "  </tbody>\n",
       "</table>\n",
       "</div>"
      ],
      "text/plain": [
       "                         name  review_count  rating    price  \\\n",
       "0         Prince Street Pizza          3976     4.5       \\$   \n",
       "1                   Juliana's          2354     4.5     \\$\\$   \n",
       "2                    Rubirosa          2438     4.5     \\$\\$   \n",
       "3            Lombardi's Pizza          6189     4.0     \\$\\$   \n",
       "4                      Lucali          1709     4.0     \\$\\$   \n",
       "5                   Roberta's          3004     4.0     \\$\\$   \n",
       "6                 Joe's Pizza          2673     4.0       \\$   \n",
       "7        L'industrie Pizzeria           596     4.5       \\$   \n",
       "8                 Joe's Pizza           947     4.0       \\$   \n",
       "9         Grimaldi's Pizzeria          4683     3.5     \\$\\$   \n",
       "10  John's of Bleecker Street          2153     4.0     \\$\\$   \n",
       "11              Scarr's Pizza           500     4.0       \\$   \n",
       "12    Lombardo's of Bay Ridge           154     5.0     \\$\\$   \n",
       "13              Di Fara Pizza          3652     4.0     \\$\\$   \n",
       "14               Mimi's Pizza            67     4.5  Unknown   \n",
       "15               Paulie Gee's          1285     4.5     \\$\\$   \n",
       "16                  Roberta's            38     4.0  Unknown   \n",
       "17         East Village Pizza           382     4.0       \\$   \n",
       "18      Bleecker Street Pizza          2454     4.0       \\$   \n",
       "19                Joe's Pizza           365     4.0       \\$   \n",
       "\n",
       "                                             location        transactions  \\\n",
       "0   {'address1': '27 Prince St', 'address2': None,...  [delivery, pickup]   \n",
       "1   {'address1': '19 Old Fulton St', 'address2': '...          [delivery]   \n",
       "2   {'address1': '235 Mulberry St', 'address2': ''...  [delivery, pickup]   \n",
       "3   {'address1': '32 Spring St', 'address2': '', '...  [delivery, pickup]   \n",
       "4   {'address1': '575 Henry St', 'address2': None,...          [delivery]   \n",
       "5   {'address1': '261 Moore St', 'address2': '', '...  [delivery, pickup]   \n",
       "6   {'address1': '7 Carmine St', 'address2': '', '...          [delivery]   \n",
       "7   {'address1': '254 S 2nd St', 'address2': '', '...          [delivery]   \n",
       "8   {'address1': '150 E 14th St', 'address2': '', ...  [delivery, pickup]   \n",
       "9   {'address1': '1 Front St', 'address2': '', 'ad...  [delivery, pickup]   \n",
       "10  {'address1': '278 Bleecker St', 'address2': ''...  [delivery, pickup]   \n",
       "11  {'address1': '22 Orchard St', 'address2': '', ...  [delivery, pickup]   \n",
       "12  {'address1': '279 71st St', 'address2': None, ...            [pickup]   \n",
       "13  {'address1': '1424 Ave J', 'address2': '', 'ad...  [delivery, pickup]   \n",
       "14  {'address1': '217 E 86th St', 'address2': None...  [delivery, pickup]   \n",
       "15  {'address1': '60 Greenpoint Ave', 'address2': ...          [delivery]   \n",
       "16  {'address1': '6 Grand St', 'address2': '', 'ad...  [delivery, pickup]   \n",
       "17  {'address1': '145 1st Ave', 'address2': '', 'a...  [delivery, pickup]   \n",
       "18  {'address1': '69 7th Ave S', 'address2': None,...  [delivery, pickup]   \n",
       "19  {'address1': '216 Bedford Ave', 'address2': ''...  [delivery, pickup]   \n",
       "\n",
       "           phone   latitude  longitude  \n",
       "0   +12129664100  40.723088 -73.994530  \n",
       "1   +17185966700  40.702747 -73.993435  \n",
       "2   +12129650500  40.722766 -73.996233  \n",
       "3   +12129417994  40.721593 -73.995596  \n",
       "4   +17188584086  40.681800 -74.000240  \n",
       "5   +17184171118  40.704930 -73.933990  \n",
       "6   +12123661182  40.730555 -74.002116  \n",
       "7   +17185990002  40.711620 -73.957830  \n",
       "8   +12123889474  40.733310 -73.987630  \n",
       "9   +17188584300  40.702583 -73.993241  \n",
       "10  +12122431680  40.731580 -74.003320  \n",
       "11  +12123343481  40.715340 -73.991400  \n",
       "12  +17182387100  40.634741 -74.028426  \n",
       "13  +17182581367  40.625093 -73.961531  \n",
       "14  +16468612518  40.778638 -73.952895  \n",
       "15  +13479873747  40.729546 -73.958568  \n",
       "16  +17182782400  40.716188 -73.966518  \n",
       "17  +12125294545  40.728199 -73.985182  \n",
       "18  +12129244466  40.732063 -74.003655  \n",
       "19  +17183882216  40.716910 -73.958987  "
      ]
     },
     "execution_count": 7,
     "metadata": {},
     "output_type": "execute_result"
    }
   ],
   "source": [
    "import pandas as pd\n",
    "\n",
    "df = pd.DataFrame(yelp_data)\n",
    "df.head(20)"
   ]
  },
  {
   "cell_type": "code",
   "execution_count": 7,
   "id": "862d6f85",
   "metadata": {
    "scrolled": true
   },
   "outputs": [
    {
     "name": "stdout",
     "output_type": "stream",
     "text": [
      "<class 'pandas.core.frame.DataFrame'>\n",
      "RangeIndex: 1000 entries, 0 to 999\n",
      "Data columns (total 9 columns):\n",
      " #   Column        Non-Null Count  Dtype  \n",
      "---  ------        --------------  -----  \n",
      " 0   name          1000 non-null   object \n",
      " 1   review_count  1000 non-null   int64  \n",
      " 2   rating        1000 non-null   float64\n",
      " 3   price         1000 non-null   object \n",
      " 4   location      1000 non-null   object \n",
      " 5   transactions  1000 non-null   object \n",
      " 6   phone         1000 non-null   object \n",
      " 7   latitude      1000 non-null   float64\n",
      " 8   longitude     1000 non-null   float64\n",
      "dtypes: float64(3), int64(1), object(5)\n",
      "memory usage: 70.4+ KB\n"
     ]
    }
   ],
   "source": [
    "df.info()"
   ]
  },
  {
   "cell_type": "markdown",
   "id": "enormous-operation",
   "metadata": {},
   "source": [
    "## Describe the data\n",
    "\n",
    "Now that we've loaded in the dataset, the structure of the data can be inspected.\n"
   ]
  },
  {
   "cell_type": "code",
   "execution_count": 8,
   "id": "false-afghanistan",
   "metadata": {
    "scrolled": true
   },
   "outputs": [],
   "source": [
    "# Find the datatype for the overall dataset\n",
    "dataset_type = type(yelp_data)\n",
    "# Isolate the first observation\n",
    "first_observation = \"No null values are present.\"\n",
    "# Find the datatype for the first observation\n",
    "observation_type = \"The dataset includes object, float and integer datatypes\"\n",
    "# How many observations are there\n",
    "num_observations = \"9 columns and 1000 records\""
   ]
  },
  {
   "cell_type": "markdown",
   "id": "canadian-wheel",
   "metadata": {},
   "source": [
    "Run this following cell unchanged to print out descriptive information for the dataset!"
   ]
  },
  {
   "cell_type": "code",
   "execution_count": 9,
   "id": "surprised-keyboard",
   "metadata": {
    "scrolled": true
   },
   "outputs": [
    {
     "name": "stdout",
     "output_type": "stream",
     "text": [
      "The dataset is a \u001b[1m<class 'list'>\u001b[0m\n",
      "The observations are a \u001b[1mThe dataset includes object, float and integer datatypes\u001b[0m\n",
      "There are \u001b[1m9 columns and 1000 records observations.\u001b[0m\n",
      "\u001b[1m\n",
      "The first observation:\u001b[0m\n",
      "==========================================\n",
      "'No null values are present.'\n",
      "==========================================\n"
     ]
    }
   ],
   "source": [
    "from pprint import pprint\n",
    "\n",
    "print(f'The dataset is a \\033[1m{dataset_type}\\033[0m')\n",
    "print(f'The observations are a \\033[1m{observation_type}\\033[0m',)\n",
    "print(f'There are \\033[1m{num_observations} observations.\\033[0m')\n",
    "print('\\033[1m\\nThe first observation:\\033[0m')\n",
    "print('==========================================')\n",
    "pprint(first_observation)\n",
    "print('==========================================')"
   ]
  },
  {
   "cell_type": "markdown",
   "id": "atlantic-application",
   "metadata": {},
   "source": [
    "## Find the possible rating options. \n",
    "\n",
    "In the cell below, created a variable called `rating_options` that has a [set datatype](https://realpython.com/python-sets/), and is a unique collection of the possible ratings a restaurant can recieve."
   ]
  },
  {
   "cell_type": "code",
   "execution_count": 8,
   "id": "broke-array",
   "metadata": {
    "scrolled": true
   },
   "outputs": [
    {
     "data": {
      "text/plain": [
       "{1.0, 2.0, 2.5, 3.0, 3.5, 4.0, 4.5, 5.0}"
      ]
     },
     "execution_count": 8,
     "metadata": {},
     "output_type": "execute_result"
    }
   ],
   "source": [
    "# Create the `rating_options` set variable\n",
    "rating_options = set()\n",
    "\n",
    "# Loop over all of the observations in the dataset\n",
    "\n",
    "# Isolate the rating for the restaurant\n",
    "for i in df.index:\n",
    "    rating_options.add(df['rating'][i])\n",
    "    \n",
    "rating_options"
   ]
  },
  {
   "cell_type": "markdown",
   "id": "aquatic-fourth",
   "metadata": {},
   "source": [
    "In order to validate, below assertions can be executed"
   ]
  },
  {
   "cell_type": "code",
   "execution_count": 9,
   "id": "czech-spring",
   "metadata": {
    "scrolled": true
   },
   "outputs": [],
   "source": [
    "assert type(rating_options) == set\n",
    "assert len(rating_options) == 8\n",
    "assert list(rating_options)[0] != list(rating_options)[1]"
   ]
  },
  {
   "cell_type": "markdown",
   "id": "charitable-oracle",
   "metadata": {},
   "source": [
    "## Plot the distribution for ratings\n",
    "\n",
    "Now that we know what rating options are available, in the cell below plotted a histogram showing the distribution of ratings. "
   ]
  },
  {
   "cell_type": "code",
   "execution_count": 10,
   "id": "electric-grocery",
   "metadata": {
    "scrolled": false
   },
   "outputs": [
    {
     "data": {
      "image/png": "[encoded data removed]",
      "text/plain": [
       "<Figure size 720x720 with 1 Axes>"
      ]
     },
     "metadata": {
      "needs_background": "light"
     },
     "output_type": "display_data"
    }
   ],
   "source": [
    "# Import matplotlib's pyplot module\n",
    "import matplotlib.pyplot as plt\n",
    "%matplotlib inline\n",
    "\n",
    "# Create an empty list.\n",
    "# We will store all ratings in this list\n",
    "ratings = []\n",
    "\n",
    "# Loop over every restaurant in the dataset\n",
    "for i in df.index:\n",
    "    ratings.append(df['rating'][i])\n",
    "\n",
    "#Find the average rating\n",
    "avg_rating = df['rating'].mean()\n",
    "\n",
    "# Create a matplotlib subplot\n",
    "fig, axes = plt.subplots(figsize=(10,10))\n",
    "\n",
    "# Plot a histogram of the ratings list\n",
    "axes.hist(ratings, edgecolor='black', linewidth=1.2, bins=len(list(rating_options)))\n",
    "axes.legend([\"Restaurant Ratings\"],loc='upper left')\n",
    "axes.axvline(x=avg_rating, color=\"red\")\n",
    "plt.xlabel(\"Rating\")\n",
    "plt.ylabel(\"Number of Restaurants\")\n",
    "plt.title(\"Distribution of Restaurant Ratings\")\n",
    "plt.show()"
   ]
  },
  {
   "cell_type": "markdown",
   "id": "adjusted-sterling",
   "metadata": {},
   "source": [
    "The data distribution of restaraunt ratings suggests that over 400 restaurants have rating between 4 and 4.5.\n",
    "Average rating was 3 in other cities where client owned the restaurant previously but in New York city, average rating is 4.\n"
   ]
  },
  {
   "cell_type": "markdown",
   "id": "martial-receiver",
   "metadata": {},
   "source": [
    "## Isolating the restaurants with an above average rating\n",
    "\n",
    "Now that we have an understanding for what is an average rating, next will isolate restaurants with above average and below average ratings so we can compare them.\n",
    "\n",
    "In the cell below, filtering out all restaurants that do not have a rating of at least `4.5`."
   ]
  },
  {
   "cell_type": "code",
   "execution_count": 32,
   "id": "possible-arrest",
   "metadata": {
    "scrolled": false
   },
   "outputs": [
    {
     "data": {
      "text/plain": [
       "[{'name': 'Prince Street Pizza',\n",
       "  'review_count': 3976,\n",
       "  'rating': 4.5,\n",
       "  'price': '\\\\$',\n",
       "  'location': {'address1': '27 Prince St',\n",
       "   'address2': None,\n",
       "   'address3': '',\n",
       "   'city': 'New York',\n",
       "   'zip_code': '10012',\n",
       "   'country': 'US',\n",
       "   'state': 'NY',\n",
       "   'display_address': ['27 Prince St', 'New York, NY 10012']},\n",
       "  'transactions': ['delivery', 'pickup'],\n",
       "  'phone': '+12129664100',\n",
       "  'latitude': 40.72308755605564,\n",
       "  'longitude': -73.99453001177575},\n",
       " {'name': \"Juliana's\",\n",
       "  'review_count': 2354,\n",
       "  'rating': 4.5,\n",
       "  'price': '\\\\$\\\\$',\n",
       "  'location': {'address1': '19 Old Fulton St',\n",
       "   'address2': '',\n",
       "   'address3': '',\n",
       "   'city': 'Brooklyn',\n",
       "   'zip_code': '11201',\n",
       "   'country': 'US',\n",
       "   'state': 'NY',\n",
       "   'display_address': ['19 Old Fulton St', 'Brooklyn, NY 11201']},\n",
       "  'transactions': ['delivery'],\n",
       "  'phone': '+17185966700',\n",
       "  'latitude': 40.70274718768062,\n",
       "  'longitude': -73.99343490196397}]"
      ]
     },
     "execution_count": 32,
     "metadata": {},
     "output_type": "execute_result"
    }
   ],
   "source": [
    "# Create an empty list\n",
    "# We will store restaurants in this list\n",
    "above_average = []\n",
    "\n",
    "# Loop over the dataset\n",
    "for i in df.index:\n",
    "    ratings = df['rating'][i]\n",
    "    \n",
    "    # Check if the rating is at least 4.5\n",
    "    if ratings >= 4.5:\n",
    "        # Add the restaurant to the list\n",
    "        above_average.append(dict(df.loc[i]))\n",
    "\n",
    "#Fetch first 2 rows\n",
    "above_average[:2]"
   ]
  },
  {
   "cell_type": "code",
   "execution_count": 13,
   "id": "falling-argentina",
   "metadata": {
    "scrolled": true
   },
   "outputs": [],
   "source": [
    "assert type(above_average) == list\n",
    "assert type(above_average[0]) == dict\n",
    "assert len(above_average) == 306"
   ]
  },
  {
   "cell_type": "markdown",
   "id": "elder-petersburg",
   "metadata": {},
   "source": [
    "## Isolating restaurants with a below average rating\n",
    "\n",
    "Repeating the process for below average ratings.\n",
    "\n",
    "In the cell below, isolating restaurants that have a rating of no more than `3.5`."
   ]
  },
  {
   "cell_type": "code",
   "execution_count": 33,
   "id": "intense-deviation",
   "metadata": {
    "scrolled": false
   },
   "outputs": [
    {
     "data": {
      "text/plain": [
       "[{'name': \"Grimaldi's Pizzeria\",\n",
       "  'review_count': 4683,\n",
       "  'rating': 3.5,\n",
       "  'price': '\\\\$\\\\$',\n",
       "  'location': {'address1': '1 Front St',\n",
       "   'address2': '',\n",
       "   'address3': '',\n",
       "   'city': 'Brooklyn',\n",
       "   'zip_code': '11201',\n",
       "   'country': 'US',\n",
       "   'state': 'NY',\n",
       "   'display_address': ['1 Front St', 'Brooklyn, NY 11201']},\n",
       "  'transactions': ['delivery', 'pickup'],\n",
       "  'phone': '+17188584300',\n",
       "  'latitude': 40.702583,\n",
       "  'longitude': -73.9932413},\n",
       " {'name': \"MAMA'S TOO!\",\n",
       "  'review_count': 460,\n",
       "  'rating': 3.5,\n",
       "  'price': '\\\\$\\\\$',\n",
       "  'location': {'address1': '2750 Broadway',\n",
       "   'address2': '',\n",
       "   'address3': None,\n",
       "   'city': 'New York',\n",
       "   'zip_code': '10025',\n",
       "   'country': 'US',\n",
       "   'state': 'NY',\n",
       "   'display_address': ['2750 Broadway', 'New York, NY 10025']},\n",
       "  'transactions': ['delivery'],\n",
       "  'phone': '+12125107256',\n",
       "  'latitude': 40.80084,\n",
       "  'longitude': -73.96766}]"
      ]
     },
     "execution_count": 33,
     "metadata": {},
     "output_type": "execute_result"
    }
   ],
   "source": [
    "# Create an empty list\n",
    "# You will store restaurants in this list\n",
    "below_average = []\n",
    "\n",
    "# Loop over the restaurants in the dataset\n",
    "for i in df.index:\n",
    "    ratings = df['rating'][i] \n",
    "    \n",
    "    # Check if the rating is no more than 3.5\n",
    "    if ratings <= 3.5:\n",
    "        # Add the restaurant to the list\n",
    "        below_average.append(dict(df.loc[i]))\n",
    "        \n",
    "#Fetch first 2 rows\n",
    "below_average[:2]"
   ]
  },
  {
   "cell_type": "code",
   "execution_count": 15,
   "id": "engaged-resident",
   "metadata": {
    "scrolled": true
   },
   "outputs": [],
   "source": [
    "assert type(below_average) == list\n",
    "assert type(below_average[0]) == dict\n",
    "assert len(below_average) == 247"
   ]
  },
  {
   "cell_type": "markdown",
   "id": "competitive-roommate",
   "metadata": {},
   "source": [
    "## Calculate average review counts for both groups\n",
    "\n",
    "Now that we've isolated above average and below average restaurants, we can calculate the average number of reviews received by both groups.\n",
    "\n",
    "To do this, we will need to isolate the review counts for both groups, and calculate their average. \n",
    "\n",
    "The code for isolating the review counts will look very similar to previously written code, which is a good sign that a function should be defined!"
   ]
  },
  {
   "cell_type": "markdown",
   "id": "fd02efc6",
   "metadata": {},
   "source": [
    "In the cell below, a function called `isolate_values` is define that receives two arguments:\n",
    "1. A list of dictionaries\n",
    "2. A string indicating the key that should be isolated for each dictionary\n",
    "\n",
    "This function will:\n",
    "- Loop over every dictionary in the inputted list\n",
    "- Pull out the value assigned to the inputted key\n",
    "- Append the value to a new list\n",
    "- Return the new list of values"
   ]
  },
  {
   "cell_type": "code",
   "execution_count": 16,
   "id": "efficient-kingdom",
   "metadata": {
    "scrolled": true
   },
   "outputs": [],
   "source": [
    "def isolate_values(dictionaries, key):\n",
    "    # Create an empty list\n",
    "    # for storing data\n",
    "    records = []\n",
    "    # Loop over every dicionary \n",
    "    for i in range(0,len(dictionaries)):\n",
    "        \n",
    "        # Isolate the value of the dictionary with the `key`\n",
    "        specific_key_value = dictionaries[i][key]\n",
    "                \n",
    "        # Append the value to the list\n",
    "        records.append(specific_key_value)\n",
    "    \n",
    "    # Return the list of values\n",
    "    return records"
   ]
  },
  {
   "cell_type": "code",
   "execution_count": 17,
   "id": "yellow-phoenix",
   "metadata": {
    "scrolled": true
   },
   "outputs": [],
   "source": [
    "from types import FunctionType\n",
    "\n",
    "assert type(isolate_values) == FunctionType\n",
    "assert type(isolate_values([{'test': 1}], 'test')) == list\n",
    "assert len(isolate_values([{'test': 1}], 'test')) == 1\n",
    "assert len(isolate_values(above_average, 'name')) == len(above_average)\n",
    "assert isolate_values(above_average, 'name')[-1] == above_average[-1]['name']"
   ]
  },
  {
   "cell_type": "markdown",
   "id": "outer-assembly",
   "metadata": {},
   "source": [
    "Now using the `isolate_values` function creating a list called `abv_avg_rev_cnts` that contains the review counts for every above average restaurant."
   ]
  },
  {
   "cell_type": "code",
   "execution_count": 27,
   "id": "useful-halloween",
   "metadata": {
    "scrolled": false
   },
   "outputs": [
    {
     "data": {
      "text/plain": [
       "[3976, 2354, 2438, 596, 154]"
      ]
     },
     "execution_count": 27,
     "metadata": {},
     "output_type": "execute_result"
    }
   ],
   "source": [
    "abv_avg_rev_cnts = isolate_values(above_average, 'review_count')\n",
    "abv_avg_rev_cnts = [int(x) for x in abv_avg_rev_cnts]\n",
    "abv_avg_rev_cnts[:5]"
   ]
  },
  {
   "cell_type": "markdown",
   "id": "severe-amateur",
   "metadata": {},
   "source": [
    "Using `isolate_values` function creating a list called `blw_avg_rev_cnts` that contains the review counts for every below average restaurant."
   ]
  },
  {
   "cell_type": "code",
   "execution_count": 28,
   "id": "herbal-interim",
   "metadata": {
    "scrolled": true
   },
   "outputs": [
    {
     "data": {
      "text/plain": [
       "[4683, 460, 95, 392, 550]"
      ]
     },
     "execution_count": 28,
     "metadata": {},
     "output_type": "execute_result"
    }
   ],
   "source": [
    "blw_avg_rev_cnts = isolate_values(below_average, 'review_count')\n",
    "blw_avg_rev_cnts = [int(x) for x in blw_avg_rev_cnts]\n",
    "blw_avg_rev_cnts[:5]"
   ]
  },
  {
   "cell_type": "code",
   "execution_count": 34,
   "id": "utility-pharmacy",
   "metadata": {
    "scrolled": true
   },
   "outputs": [],
   "source": [
    "assert type(abv_avg_rev_cnts) == list\n",
    "assert type(abv_avg_rev_cnts[0]) == int\n",
    "assert type(blw_avg_rev_cnts) == list\n",
    "assert type(blw_avg_rev_cnts[0]) == int\n",
    "assert len(abv_avg_rev_cnts) == len(above_average)\n",
    "assert len(blw_avg_rev_cnts) == len(below_average)\n",
    "assert abv_avg_rev_cnts[101] == above_average[101]['review_count']\n",
    "assert blw_avg_rev_cnts[101] == below_average[101]['review_count']"
   ]
  },
  {
   "cell_type": "markdown",
   "id": "verbal-pressing",
   "metadata": {},
   "source": [
    "Given review counts are isolated for both groups, average review count can be calculated\n",
    "\n",
    "But before that, lets inspect the distribution of review counts to make sure `mean` is an appropriate measure of centrality.\n",
    "\n",
    "In the cell below, we plot a histogram for above average and below average restaurant review counts."
   ]
  },
  {
   "cell_type": "code",
   "execution_count": 35,
   "id": "wooden-viking",
   "metadata": {
    "scrolled": false
   },
   "outputs": [
    {
     "data": {
      "image/png": "[encoded data removed]",
      "text/plain": [
       "<Figure size 1080x432 with 2 Axes>"
      ]
     },
     "metadata": {
      "needs_background": "light"
     },
     "output_type": "display_data"
    }
   ],
   "source": [
    "# Import numpy\n",
    "import numpy as np \n",
    "\n",
    "# Initialize a matplotlib subplot\n",
    "# with 1 row and 2 columns\n",
    "fig, axes = plt.subplots(1,2, figsize=(15,6))\n",
    "\n",
    "# Plot a histogram of below average review counts\n",
    "# on the first axis\n",
    "axes[0].hist(blw_avg_rev_cnts, edgecolor='black', linewidth=1.2, bins=[0, 500, 1000, 1500, 2000, 2500, 3000])\n",
    "axes[0].axvline(x=np.mean(blw_avg_rev_cnts), color=\"red\")\n",
    "\n",
    "# # Set the title for the first axis\n",
    "# # to \"Below Average - Review Counts\"\n",
    "axes[0].set_title(\"Below Average - Review Counts\")\n",
    "\n",
    "# # Plot a histogram of above average review counts\n",
    "# # on the first axis\n",
    "axes[1].hist(abv_avg_rev_cnts, edgecolor='black', linewidth=1.2, bins=[0, 500, 1000, 1500, 2000, 2500, 3000])\n",
    "axes[1].axvline(x=np.mean(abv_avg_rev_cnts), color=\"red\")\n",
    "\n",
    "# # Set the title for the first axis\n",
    "# # to \"Above Average - Review Counts\"\n",
    "axes[1].set_title(\"Above Average - Review Counts\");"
   ]
  },
  {
   "cell_type": "markdown",
   "id": "atmospheric-trauma",
   "metadata": {},
   "source": [
    "Most number of restaurants in both below and above average restaurants have received high number of review counts of around 500. In those popular review counts, above average group has more than 280 restaurants as compared to the other.\n",
    "This dataset will be classified as Discrete data in statistics"
   ]
  },
  {
   "cell_type": "markdown",
   "id": "continuous-mills",
   "metadata": {},
   "source": [
    "In the cell below, we calculate the average review count for above average and below average restaurants."
   ]
  },
  {
   "cell_type": "code",
   "execution_count": 36,
   "id": "terminal-morrison",
   "metadata": {
    "scrolled": true
   },
   "outputs": [
    {
     "name": "stdout",
     "output_type": "stream",
     "text": [
      "Above average review count: 189.3856209150327\n",
      "Below average review count: 285.99595141700405\n"
     ]
    }
   ],
   "source": [
    "# Import numpy\n",
    "import numpy as np \n",
    "\n",
    "# Replace None with your code\n",
    "abv_avg_rev_cnt_center = np.average(abv_avg_rev_cnts)\n",
    "blw_avg_rev_cnt_center = np.average(blw_avg_rev_cnts)\n",
    "\n",
    "print('Above average review count:', abv_avg_rev_cnt_center)\n",
    "print('Below average review count:', blw_avg_rev_cnt_center)"
   ]
  },
  {
   "cell_type": "markdown",
   "id": "stunning-setup",
   "metadata": {},
   "source": [
    "The review count doesn't really reflect the fact that business would be successful when there is high review count value"
   ]
  },
  {
   "cell_type": "markdown",
   "id": "fallen-dress",
   "metadata": {},
   "source": [
    "## Count the price option frequency\n",
    "\n",
    "The `price` variable in the dataset is a string of dollar signs indicating how expensive a restaurant's price point is. \n",
    "\n",
    "In the cell below, for loop that counts how frequently a given price point appears for the `above_average` dataset is written"
   ]
  },
  {
   "cell_type": "code",
   "execution_count": 37,
   "id": "verbal-peripheral",
   "metadata": {
    "scrolled": true
   },
   "outputs": [
    {
     "name": "stdout",
     "output_type": "stream",
     "text": [
      "{'\\\\$': 74, '\\\\$\\\\$': 87, 'Unknown': 134, '\\\\$\\\\$\\\\$': 10, '\\\\$\\\\$\\\\$\\\\$': 1}\n"
     ]
    }
   ],
   "source": [
    "# Create an empty dictionary to store the\n",
    "# counts for each price point\n",
    "abv_avg_prices = {}\n",
    "\n",
    "# Loop over the above average restaurants\n",
    "for i in range(0, len(above_average)):\n",
    "    # Isolate the price point for the restuarant\n",
    "    restaurant_price = above_average[i]['price']\n",
    "    \n",
    "    # Check if the price has been added to the dictionary\n",
    "    if(restaurant_price in abv_avg_prices.keys()):\n",
    "        # If the price is already a key in the dictionary\n",
    "        # Add one to the count for that price point\n",
    "        abv_avg_prices[restaurant_price] += 1\n",
    "        \n",
    "    # If the price has not been added to the dictionary\n",
    "    # Else set the price as the key and the value as the integer `1`\n",
    "    else:\n",
    "        abv_avg_prices[restaurant_price] = 1\n",
    "\n",
    "print(abv_avg_prices)"
   ]
  },
  {
   "cell_type": "code",
   "execution_count": 38,
   "id": "romantic-password",
   "metadata": {
    "scrolled": true
   },
   "outputs": [],
   "source": [
    "assert type(abv_avg_prices) == dict\n",
    "assert len(abv_avg_prices) == 5\n",
    "assert '\\\\$\\\\$\\\\$\\\\$' in abv_avg_prices"
   ]
  },
  {
   "cell_type": "markdown",
   "id": "governing-resistance",
   "metadata": {},
   "source": [
    "**Reapplying the same process, but instead calculate the price point frequencies for the `below_average` dataset.**"
   ]
  },
  {
   "cell_type": "code",
   "execution_count": 39,
   "id": "banner-reward",
   "metadata": {
    "scrolled": true
   },
   "outputs": [
    {
     "data": {
      "text/plain": [
       "{'\\\\$\\\\$': 88, '\\\\$': 128, 'Unknown': 19, '\\\\$\\\\$\\\\$': 12}"
      ]
     },
     "execution_count": 39,
     "metadata": {},
     "output_type": "execute_result"
    }
   ],
   "source": [
    "# Create an empty dictionary to store the\n",
    "# counts for each price point\n",
    "blw_avg_prices = {}\n",
    "\n",
    "# Loop over the below average restaurants\n",
    "for i in range(0, len(below_average)):\n",
    "    # Isolate the price point for the restuarant\n",
    "    restaurant_price = below_average[i]['price']\n",
    "    \n",
    "    # Check if the price has been added to the dictionary\n",
    "    if(restaurant_price in blw_avg_prices.keys()):\n",
    "        # If the price is already a key in the dictionary\n",
    "        # Add one to the count for that price point\n",
    "        blw_avg_prices[restaurant_price] += 1\n",
    "        \n",
    "    # If the price has not been added to the dictionary\n",
    "    # Else set the price as the key and the value as the integer `1`\n",
    "    else:\n",
    "        blw_avg_prices[restaurant_price] = 1\n",
    "\n",
    "blw_avg_prices"
   ]
  },
  {
   "cell_type": "code",
   "execution_count": 40,
   "id": "filled-absolute",
   "metadata": {
    "scrolled": true
   },
   "outputs": [],
   "source": [
    "assert type(blw_avg_prices) == dict\n",
    "assert len(blw_avg_prices) == 4\n",
    "assert '\\\\$' in blw_avg_prices"
   ]
  },
  {
   "cell_type": "markdown",
   "id": "departmental-attitude",
   "metadata": {},
   "source": [
    "## Creating a bar plot that sets the frequency of each price point as the y axis"
   ]
  },
  {
   "cell_type": "code",
   "execution_count": 41,
   "id": "seeing-extension",
   "metadata": {
    "scrolled": false
   },
   "outputs": [
    {
     "data": {
      "text/plain": [
       "Text(0.5, 1.0, 'Above Average')"
      ]
     },
     "execution_count": 41,
     "metadata": {},
     "output_type": "execute_result"
    },
    {
     "data": {
      "image/png": "[encoded data removed]",
      "text/plain": [
       "<Figure size 1080x720 with 2 Axes>"
      ]
     },
     "metadata": {
      "needs_background": "light"
     },
     "output_type": "display_data"
    }
   ],
   "source": [
    "# Create a matplotlib subplot with 1 row and 2 columns\n",
    "fig, axes = plt.subplots(nrows=1, ncols=2, figsize=(15,10))\n",
    "\n",
    "# Isolate keys of the below average price count dictionary\n",
    "# This will be the x-axis\n",
    "x0 = blw_avg_prices.keys()\n",
    "\n",
    "# Isolate the values of the below average price count dictionary\n",
    "# This will be the y-axis\n",
    "y0 = blw_avg_prices.values()\n",
    "# y0 = sorted(blw_avg_prices.values)\n",
    "\n",
    "# Plot the below average price point counts as a bar plot\n",
    "# on the first axis\n",
    "axes[0].bar(x0, y0)\n",
    "\n",
    "# Set the title for the first axis\n",
    "# to the string \"Below Average\"\n",
    "axes[0].set_title('Below Average')\n",
    "\n",
    "# Isolate keys of the above average price count dictionary\n",
    "# This will be the x-axis\n",
    "x1 = abv_avg_prices.keys()\n",
    "\n",
    "# Isolate the values of the above average price count dictionary\n",
    "# This will be the y-axis\n",
    "y1 = abv_avg_prices.values()\n",
    "\n",
    "# Plot the above average price counts as a bar plot\n",
    "# on the second axis\n",
    "axes[1].bar(x1, y1)\n",
    "\n",
    "# Set the title for the second axis to \n",
    "# the string 'Above Average'\n",
    "axes[1].set_title('Above Average')"
   ]
  },
  {
   "cell_type": "markdown",
   "id": "moderate-thong",
   "metadata": {},
   "source": [
    "Above graph illustrates that high number of above average restaurants does not have valid price points whereas below average has a common price point of `$`. Both above and below average have similar number of restaurants that has `$$` as price points. It is also important to note restaurants in below average have `$$$` which is significantly higher as compared to above average"
   ]
  },
  {
   "cell_type": "markdown",
   "id": "occupied-westminster",
   "metadata": {},
   "source": [
    "## Analyze restaurant location\n",
    "\n",
    "In the cell below, using `isolate_values` function to isolate `longitude` and `latitude` for above and below average restaurants."
   ]
  },
  {
   "cell_type": "code",
   "execution_count": 42,
   "id": "maritime-comparative",
   "metadata": {
    "scrolled": false
   },
   "outputs": [
    {
     "data": {
      "image/png": "[encoded data removed]",
      "text/plain": [
       "<Figure size 1080x432 with 1 Axes>"
      ]
     },
     "metadata": {
      "needs_background": "light"
     },
     "output_type": "display_data"
    }
   ],
   "source": [
    "# Replace None with your code\n",
    "\n",
    "# Isolate longitude for above average restaurants\n",
    "abv_avg_lon = isolate_values(above_average, 'longitude')\n",
    "\n",
    "# Isolate latitude for above average restaurants\n",
    "abv_avg_lat = isolate_values(above_average, 'latitude')\n",
    "\n",
    "# Isolate longitude for below average restaurants\n",
    "blw_avg_lon = isolate_values(below_average, 'longitude')\n",
    "\n",
    "# Isolate latitude for below average restaurants\n",
    "blw_avg_lat = isolate_values(below_average, 'latitude')\n",
    "\n",
    "plt.figure(figsize=(15,6))\n",
    "plt.scatter(abv_avg_lon, abv_avg_lat, label='Above')\n",
    "plt.scatter(blw_avg_lon, blw_avg_lat, label='Below')\n",
    "plt.legend();"
   ]
  },
  {
   "cell_type": "markdown",
   "id": "intensive-palestine",
   "metadata": {},
   "source": [
    "## Removing the outlier\n",
    "\n",
    "There is one restaurant in the above average dataset with a location dramatically west and south of all other observations. Let's remove that restaurant from the above average dataset and regenerate the scatter plot."
   ]
  },
  {
   "cell_type": "code",
   "execution_count": 43,
   "id": "rocky-wrong",
   "metadata": {
    "scrolled": true
   },
   "outputs": [
    {
     "data": {
      "text/plain": [
       "[{'name': 'New York Pizza',\n",
       "  'review_count': 115,\n",
       "  'rating': 4.5,\n",
       "  'price': '\\\\$\\\\$',\n",
       "  'location': {'address1': '701 W Elms Rd',\n",
       "   'address2': 'Ste 300',\n",
       "   'address3': '',\n",
       "   'city': 'Killeen',\n",
       "   'zip_code': '76542',\n",
       "   'country': 'US',\n",
       "   'state': 'TX',\n",
       "   'display_address': ['701 W Elms Rd', 'Ste 300', 'Killeen, TX 76542']},\n",
       "  'transactions': ['delivery'],\n",
       "  'phone': '+12542851758',\n",
       "  'latitude': 31.086427,\n",
       "  'longitude': -97.753939}]"
      ]
     },
     "execution_count": 43,
     "metadata": {},
     "output_type": "execute_result"
    }
   ],
   "source": [
    "# Create an empty list\n",
    "# that will contain data with\n",
    "# the outlier removed\n",
    "no_outliers = []\n",
    "\n",
    "# Create an empty list to append the outlier\n",
    "outlier = []\n",
    "\n",
    "# Loop over every restaurant in the above average dataset\n",
    "for i in range(0, len(above_average)):\n",
    "    \n",
    "    # Isolate the restaurant's longitude\n",
    "    restaurant_longitude = above_average[i]['longitude']\n",
    "\n",
    "    # Check if the longitude value is greater than the integer -90\n",
    "    if restaurant_longitude > -90:\n",
    "        # Append the restaurant to the no_outliers list\n",
    "        no_outliers.append(above_average[i])\n",
    "        \n",
    "    # If longitude is less than -90 it is an outlier\n",
    "    # and should be appended to the outlier list\n",
    "    else:\n",
    "        outlier.append(above_average[i])\n",
    "outlier"
   ]
  },
  {
   "cell_type": "code",
   "execution_count": 44,
   "id": "crude-medicine",
   "metadata": {
    "scrolled": true
   },
   "outputs": [],
   "source": [
    "assert type(no_outliers) == list\n",
    "assert type(outlier) == list\n",
    "assert len(no_outliers) == len(above_average) - 1\n",
    "assert len(outlier) == 1"
   ]
  },
  {
   "cell_type": "markdown",
   "id": "colored-retreat",
   "metadata": {},
   "source": [
    "Now regenerating the longitude and latitude for above average restaurants using the `no_outliers` dataset, and regenerate the scatter plot!"
   ]
  },
  {
   "cell_type": "code",
   "execution_count": 45,
   "id": "black-tunnel",
   "metadata": {
    "scrolled": false
   },
   "outputs": [
    {
     "data": {
      "image/png": "[encoded data removed]",
      "text/plain": [
       "<Figure size 1080x432 with 1 Axes>"
      ]
     },
     "metadata": {
      "needs_background": "light"
     },
     "output_type": "display_data"
    }
   ],
   "source": [
    "abv_avg_lon = isolate_values(no_outliers, 'longitude')\n",
    "abv_avg_lat = isolate_values(no_outliers, 'latitude')\n",
    "\n",
    "\n",
    "plt.figure(figsize=(15,6))\n",
    "plt.scatter(abv_avg_lon, abv_avg_lat, label='Above')\n",
    "plt.scatter(blw_avg_lon, blw_avg_lat, label='Below')\n",
    "plt.legend();"
   ]
  },
  {
   "cell_type": "markdown",
   "id": "everyday-president",
   "metadata": {},
   "source": [
    "## Plot the distribution of latitude and longitude\n",
    "\n",
    "To get a better sense about how latitude and longitude are working, in the cell below plotting histograms for latitude and longitude."
   ]
  },
  {
   "cell_type": "code",
   "execution_count": 46,
   "id": "empirical-contract",
   "metadata": {
    "scrolled": false
   },
   "outputs": [
    {
     "data": {
      "image/png": "[encoded data removed]",
      "text/plain": [
       "<Figure size 1080x720 with 2 Axes>"
      ]
     },
     "metadata": {
      "needs_background": "light"
     },
     "output_type": "display_data"
    }
   ],
   "source": [
    "# Create a matplotlib subplot with 1 row and 2 columns\n",
    "fig, axes = plt.subplots(nrows=1, ncols=2, figsize=(15, 10))\n",
    "\n",
    "# Plot a histogram of above average longitude\n",
    "# on the first subplot axis. Set alpha to .6\n",
    "# Set label to the string \"Above\"\n",
    "axes[0].hist(abv_avg_lon, alpha=0.6, label='Above')\n",
    "axes[0].legend()\n",
    "\n",
    "# Plot a histogram of below average longitude\n",
    "# on the first subplot axis. Set alpha to .6\n",
    "# Set label to the string \"Below\"\n",
    "axes[0].hist(blw_avg_lon, alpha=0.6, label='Below')\n",
    "axes[0].legend()\n",
    "\n",
    "\n",
    "# Set the title for the first subplot axis\n",
    "# to the string \"Longitude\"\n",
    "axes[0].set_title('Longitude')\n",
    "\n",
    "# Plot a histogram of above average latitude\n",
    "# on the second subplot axis. Set alpha to .6\n",
    "# Set label to the string \"Above\"\n",
    "axes[1].hist(abv_avg_lat, alpha=0.6, label='Above')\n",
    "axes[1].legend()\n",
    "\n",
    "\n",
    "# Plot a histogram of below average latitude\n",
    "# on the second subplot axis. Set alpha to .6\n",
    "# Set label to the string \"Below\"\n",
    "axes[1].hist(blw_avg_lat, alpha=0.6, label='Below')\n",
    "axes[1].legend()\n",
    "\n",
    "# Set the title for the second subplot axis\n",
    "# to the string \"Latitude\"\n",
    "axes[1].set_title('Latitude')\n",
    "\n",
    "plt.show()"
   ]
  },
  {
   "cell_type": "markdown",
   "id": "optimum-american",
   "metadata": {},
   "source": [
    "Most of the above average restaurants are located in the latitude of 40.75"
   ]
  },
  {
   "cell_type": "markdown",
   "id": "extra-lithuania",
   "metadata": {},
   "source": [
    "## Most common zipcode for above average restaurants\n",
    "\n",
    "In the cell below, looping over the restaurants in the above average dataset and count the frequency of the restaurants zipcode."
   ]
  },
  {
   "cell_type": "code",
   "execution_count": 52,
   "id": "afraid-appendix",
   "metadata": {
    "scrolled": true
   },
   "outputs": [
    {
     "data": {
      "text/plain": [
       "[('10012', 10), ('11201', 8), ('11211', 11), ('11209', 4), ('10028', 1)]"
      ]
     },
     "execution_count": 52,
     "metadata": {},
     "output_type": "execute_result"
    }
   ],
   "source": [
    "# Create an empty dictionary\n",
    "# This dictionary will hold the counts\n",
    "# for each zipcode\n",
    "abv_avg_zip_cnts = {}\n",
    "\n",
    "# Loop over the above average dataset\n",
    "for i in range(0, len(above_average)):\n",
    "    \n",
    "    # Isolate the restaurant's zipcode \n",
    "    address = above_average[i]['location']\n",
    "    zipcode = address['zip_code']\n",
    "    \n",
    "    # Check if the zipcode is a key in the dictionary\n",
    "    if(zipcode in abv_avg_zip_cnts.keys()):\n",
    "        # Add one to the zipcode's value\n",
    "        abv_avg_zip_cnts[zipcode] += 1\n",
    "    \n",
    "    # If the zipcode is not a key\n",
    "    # add it to the dictionary with a value of 1\n",
    "    else:\n",
    "        abv_avg_zip_cnts[zipcode] = 1\n",
    "\n",
    "#Fetch Top 5 rows\n",
    "list(abv_avg_zip_cnts.items())[:5]"
   ]
  },
  {
   "cell_type": "code",
   "execution_count": 53,
   "id": "subtle-outside",
   "metadata": {
    "scrolled": true
   },
   "outputs": [],
   "source": [
    "assert type(abv_avg_zip_cnts) == dict\n",
    "assert len(abv_avg_zip_cnts) == 104 or len(abv_avg_zip_cnts) == 103\n",
    "assert '10012' in abv_avg_zip_cnts"
   ]
  },
  {
   "cell_type": "code",
   "execution_count": 54,
   "id": "early-vertex",
   "metadata": {
    "scrolled": true
   },
   "outputs": [
    {
     "data": {
      "text/plain": [
       "'10014'"
      ]
     },
     "execution_count": 54,
     "metadata": {},
     "output_type": "execute_result"
    }
   ],
   "source": [
    "# Find the zipcode with largest count\n",
    "max_zipcode = max(abv_avg_zip_cnts, key=abv_avg_zip_cnts.get)\n",
    "max_zipcode"
   ]
  },
  {
   "cell_type": "markdown",
   "id": "auburn-division",
   "metadata": {},
   "source": [
    "10014 is the Zipcode with most restaurants. 11121, 10012 and 10003 are in the next rank with most retaurants. "
   ]
  },
  {
   "cell_type": "markdown",
   "id": "brave-venture",
   "metadata": {},
   "source": [
    "## Compiling the findings to a report"
   ]
  },
  {
   "cell_type": "markdown",
   "id": "effective-disclaimer",
   "metadata": {},
   "source": [
    "Business Intelligence report to assist client claims in opening a pizza restaurant in New York City. \n",
    "\n",
    "1. The data distribution of restaraunt ratings suggests that over 400 restaurants have rating between 4 and 4.5 and average rating in New York City is 4. Hence new business would be recommended to follow the same rating if they have to maintain in high performing group of restuarants\n",
    "\n",
    "2. Comparing review counts for both below and above average restaurants, there appears similarity between these two ranges.However above average restaurants does have higher number of restaurants with more review counts.\n",
    "\n",
    "3. Both above and below average have similar number of restaurants that has `$$` as price points. Hence client should consider increasing their price points to `$$` in order to match the majority of restaurants. It is also important to note restaurants in below average have `$$$` which is significantly higher as compared to above average\n",
    "\n",
    "4. Based on the location comparison, most of above average restaurants are located on the North West. In addition to that, siginificant below avergae restaurants are situated on the West side too.\n",
    "\n",
    "5. 10014 is the Zipcode with most restaurants. 11121, 10012 and 10003 are in the next rank with most retaurants. "
   ]
  }
 ],
 "metadata": {
  "kernelspec": {
   "display_name": "Python 3 (ipykernel)",
   "language": "python",
   "name": "python3"
  },
  "language_info": {
   "codemirror_mode": {
    "name": "ipython",
    "version": 3
   },
   "file_extension": ".py",
   "mimetype": "text/x-python",
   "name": "python",
   "nbconvert_exporter": "python",
   "pygments_lexer": "ipython3",
   "version": "3.9.7"
  }
 },
 "nbformat": 4,
 "nbformat_minor": 5
}
